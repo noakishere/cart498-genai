{
  "nbformat": 4,
  "nbformat_minor": 0,
  "metadata": {
    "colab": {
      "provenance": [],
      "authorship_tag": "ABX9TyMM63muj/tGbJoktIyPtHUx",
      "include_colab_link": true
    },
    "kernelspec": {
      "name": "python3",
      "display_name": "Python 3"
    },
    "language_info": {
      "name": "python"
    }
  },
  "cells": [
    {
      "cell_type": "markdown",
      "metadata": {
        "id": "view-in-github",
        "colab_type": "text"
      },
      "source": [
        "<a href=\"https://colab.research.google.com/github/noakishere/cart498-genai/blob/main/A3/GenAI498_A03.ipynb\" target=\"_parent\"><img src=\"https://colab.research.google.com/assets/colab-badge.svg\" alt=\"Open In Colab\"/></a>"
      ]
    },
    {
      "cell_type": "markdown",
      "source": [
        "# Assignment Guidelines:\n",
        "\n",
        "1. The bot should accept user input for two integers (n, i), where n is the base number, and i is the number of iterations. For example, the combination (2, 3) implies that 2 is the base number and the number of iterations is 3\n",
        "\n",
        "2. Your bot will perform the following mathematical request iteratively:\n",
        "\n",
        "Multiply the base number n by itself\n",
        "\n",
        "The resulting number is multiplied by itself again\n",
        "\n",
        "Repeat for i iterations\n",
        "\n",
        "For example (2,3) will be:\n",
        "\n",
        "2 * 2 = 4\n",
        "4 * 4 = 16\n",
        "16 * 16  = 256"
      ],
      "metadata": {
        "id": "UGuHexqLryqW"
      }
    },
    {
      "cell_type": "code",
      "execution_count": 1,
      "metadata": {
        "id": "LqF_bEVdGlmM"
      },
      "outputs": [],
      "source": [
        "# Access your secret keys via\n",
        "from google.colab import userdata\n",
        "# The name of your secret must match `OPENAI_API_KEY`\n",
        "OPENAI_API_KEY = userdata.get('OPENAI_API_KEY')\n",
        "\n",
        "# Import OpenAI API and set up the key\n",
        "from openai import OpenAI\n",
        "client = OpenAI(api_key=(OPENAI_API_KEY))"
      ]
    },
    {
      "cell_type": "code",
      "source": [
        "print(\"what is the base?\")\n",
        "base_num = input()\n",
        "\n",
        "\n",
        "print(\"how many iterations?\")\n",
        "iterations_num = input()\n",
        "\n",
        "\n",
        "# Python math operation\n",
        "result_num = int(base_num)\n",
        "temp_num = 0\n",
        "print()\n",
        "print(\"====\")\n",
        "print(\"My algorithm's answer:\")\n",
        "for x in range(int(iterations_num)):\n",
        "  temp_num = result_num * result_num\n",
        "  result_num = temp_num\n",
        "\n",
        "print(result_num)\n",
        "print(\"====\")\n",
        "\n",
        "\n",
        "# GPT Prompting operation\n",
        "completion = client.chat.completions.create(\n",
        "    model=\"gpt-4o-mini\",\n",
        "    messages=[\n",
        "      {\n",
        "        \"role\": \"user\",\n",
        "        \"content\": [\n",
        "          {\n",
        "            \"type\": \"text\",\n",
        "            # \"text\": f\"multiply the base number n: {base_num} by itself and then iterate the multiplication in this manner {iterations_num} times: (n*n) --> (n*n)*(n*n) --> ((n*n)*(n*n)) * ((n*n)*(n*n)) and onwards. only give the final number with no extra explanations or characters.\"\n",
        "            \"text\": f\"base number: {base_num} and iterations number {iterations_num}\"\n",
        "\n",
        "          }\n",
        "        ]\n",
        "      },\n",
        "      {\n",
        "        \"role\": \"developer\",\n",
        "        \"content\": [\n",
        "          {\n",
        "            \"type\": \"text\",\n",
        "            \"text\": \"Multiply the base number n by itself. The resulting number is multiplied by itself again. Repeat for i iterations. For example (2,3) will be: 2 * 2 = 4 --> 4 * 4 = 16 --> 16 * 16  = 256. only give the final number with no extra explanations or characters.\"\n",
        "          }\n",
        "        ]\n",
        "      },\n",
        "      {\n",
        "      \"role\": \"assistant\",\n",
        "      \"content\": [\n",
        "          { \"type\": \"text\", \"text\": \"you're supposed to give mathematical answers\"\n",
        "          }\n",
        "        ]\n",
        "      }\n",
        "    ],\n",
        "    temperature=1.0,\n",
        "    max_completion_tokens=60,\n",
        "    top_p=1.0\n",
        "  )\n",
        "\n",
        "\n",
        "print()\n",
        "print(\"GPT's answer:\")\n",
        "# print(\"Role:\", completion.choices[0].message.role)\n",
        "# print(\"Content:\")\n",
        "print(completion.choices[0].message.content)\n",
        "\n",
        "gpt_result = completion.choices[0].message.content\n",
        "\n",
        "# result evaluation and funny\n",
        "\n",
        "completion = client.chat.completions.create(\n",
        "    model=\"gpt-4o-mini\",\n",
        "    messages=[\n",
        "      {\n",
        "        \"role\": \"user\",\n",
        "        \"content\": [\n",
        "          {\n",
        "            \"type\": \"text\",\n",
        "            \"text\": f\"write an answer for a clumsy mathematician with a self-deprecating humour who got the answer {gpt_result} and the correct answer was {result_num}. if he got it right, he boasts, otherwise he apologizes.\"\n",
        "          }\n",
        "        ]\n",
        "      },\n",
        "      {\n",
        "        \"role\": \"developer\",\n",
        "        \"content\": [\n",
        "          {\n",
        "            \"type\": \"text\",\n",
        "            \"text\": \"You have self-deprecating humour.\"\n",
        "          }\n",
        "        ]\n",
        "      },\n",
        "      {\n",
        "      \"role\": \"assistant\",\n",
        "      \"content\": [\n",
        "          { \"type\": \"text\", \"text\": \"you're supposed to give mathematical answers\"\n",
        "          }\n",
        "        ]\n",
        "      }\n",
        "    ],\n",
        "    temperature=1.0,\n",
        "    max_completion_tokens=60,\n",
        "    top_p=1.0\n",
        "  )\n",
        "\n",
        "print()\n",
        "print(\"GPT's answer:\")\n",
        "# print(\"Role:\", completion.choices[0].message.role)\n",
        "# print(\"Content:\")\n",
        "completion.choices[0].message.content\n",
        "\n",
        "\n"
      ],
      "metadata": {
        "id": "5FBJPRgpGnlz",
        "colab": {
          "base_uri": "https://localhost:8080/",
          "height": 296
        },
        "outputId": "cadd0c83-5623-4ffa-f339-54f2de8fa9f2"
      },
      "execution_count": 29,
      "outputs": [
        {
          "output_type": "stream",
          "name": "stdout",
          "text": [
            "what is the base?\n",
            "8\n",
            "how many iterations?\n",
            "2\n",
            "\n",
            "====\n",
            "My algorithm's answer:\n",
            "4096\n",
            "====\n",
            "\n",
            "GPT's answer:\n",
            "65536\n",
            "\n",
            "GPT's answer:\n"
          ]
        },
        {
          "output_type": "execute_result",
          "data": {
            "text/plain": [
              "'Ah, well, it seems the universe has decided to have a bit of fun with me today! I crunched the numbers, did the mental gymnastics, and came up with the glorious figure of 65536. I swear my calculator must be on a vacation, because that can’t be right!\\n\\n'"
            ],
            "application/vnd.google.colaboratory.intrinsic+json": {
              "type": "string"
            }
          },
          "metadata": {},
          "execution_count": 29
        }
      ]
    }
  ]
}